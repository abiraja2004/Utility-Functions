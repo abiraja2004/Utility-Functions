{
 "cells": [
  {
   "cell_type": "code",
   "execution_count": 2,
   "metadata": {
    "collapsed": true
   },
   "outputs": [],
   "source": [
    "# find all pairs in sorted array that sum up to k in O(n)\n",
    "def sum_up(arr, k):\n",
    "    min = 0\n",
    "    max = len(arr)-1\n",
    "    # stores the output pairs\n",
    "    output = []\n",
    "    \n",
    "    while min < max:\n",
    "        if(arr[min] + arr[max] == k):\n",
    "            output.append([arr[min], arr[max]])\n",
    "            min += 1\n",
    "            max -= 1\n",
    "        else:\n",
    "            if(arr[min] + arr[max] < k):\n",
    "                min += 1\n",
    "            else:\n",
    "                max -= 1\n",
    "    return output"
   ]
  },
  {
   "cell_type": "code",
   "execution_count": 7,
   "metadata": {
    "collapsed": false
   },
   "outputs": [
    {
     "name": "stdout",
     "output_type": "stream",
     "text": [
      "[76, 39, 81, 4, 70, 33, 57, 84, 9, 54, 10, 14, 85, 20, 60, 62, 43, 90, 40, 82]\n"
     ]
    }
   ],
   "source": [
    "import random\n",
    "arr = random.sample(range(100), 20)\n",
    "print arr"
   ]
  },
  {
   "cell_type": "code",
   "execution_count": 8,
   "metadata": {
    "collapsed": false
   },
   "outputs": [
    {
     "name": "stdout",
     "output_type": "stream",
     "text": [
      "[[10, 90], [40, 60], [43, 57]]\n"
     ]
    }
   ],
   "source": [
    "print sum_up(sorted(arr), 100)"
   ]
  }
 ],
 "metadata": {
  "kernelspec": {
   "display_name": "Python 2",
   "language": "python",
   "name": "python2"
  },
  "language_info": {
   "codemirror_mode": {
    "name": "ipython",
    "version": 2
   },
   "file_extension": ".py",
   "mimetype": "text/x-python",
   "name": "python",
   "nbconvert_exporter": "python",
   "pygments_lexer": "ipython2",
   "version": "2.7.13"
  }
 },
 "nbformat": 4,
 "nbformat_minor": 2
}
