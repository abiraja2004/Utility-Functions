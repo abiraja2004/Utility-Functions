{
 "cells": [
  {
   "cell_type": "code",
   "execution_count": 1,
   "metadata": {
    "collapsed": false
   },
   "outputs": [],
   "source": [
    "# fibonacci series of n numbers\n",
    "def fib(n):\n",
    "    if n >= 2:\n",
    "        fib_arr = [0, 1]\n",
    "        l = len(fib_arr)\n",
    "        while l < n:\n",
    "            fib_arr.append(fib_arr[l-1] + fib_arr[l-2])\n",
    "            l += 1\n",
    "    else:\n",
    "        if n == 1:\n",
    "            return [0]\n",
    "        else:\n",
    "            return []\n",
    "    return fib_arr"
   ]
  },
  {
   "cell_type": "code",
   "execution_count": 2,
   "metadata": {
    "collapsed": false
   },
   "outputs": [
    {
     "data": {
      "text/plain": [
       "[0, 1, 1, 2, 3, 5, 8, 13, 21, 34]"
      ]
     },
     "execution_count": 2,
     "metadata": {},
     "output_type": "execute_result"
    }
   ],
   "source": [
    "fib(10)"
   ]
  }
 ],
 "metadata": {
  "kernelspec": {
   "display_name": "Python 2",
   "language": "python",
   "name": "python2"
  },
  "language_info": {
   "codemirror_mode": {
    "name": "ipython",
    "version": 2
   },
   "file_extension": ".py",
   "mimetype": "text/x-python",
   "name": "python",
   "nbconvert_exporter": "python",
   "pygments_lexer": "ipython2",
   "version": "2.7.13"
  }
 },
 "nbformat": 4,
 "nbformat_minor": 2
}
