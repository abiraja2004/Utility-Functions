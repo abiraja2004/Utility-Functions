{
 "cells": [
  {
   "cell_type": "code",
   "execution_count": 1,
   "metadata": {
    "collapsed": true
   },
   "outputs": [],
   "source": [
    "# permutation function\n",
    "def permute(arr):\n",
    "    # create an empty queue\n",
    "    queue = [[]]\n",
    "    permutation_set = []\n",
    "    while len(queue) > 0:\n",
    "        p = queue.pop(0)\n",
    "        # set p has all items in the given list\n",
    "        if len(p) == len(arr):\n",
    "            permutation_set.append(p)\n",
    "        else:\n",
    "            # add items which are not already in p\n",
    "            for item in arr:\n",
    "                if item not in p:\n",
    "                    queue.append(p + [item])\n",
    "    return permutation_set"
   ]
  },
  {
   "cell_type": "code",
   "execution_count": 2,
   "metadata": {
    "collapsed": false
   },
   "outputs": [
    {
     "data": {
      "text/plain": [
       "[['london', 'paris', 'rome'],\n",
       " ['london', 'rome', 'paris'],\n",
       " ['paris', 'london', 'rome'],\n",
       " ['paris', 'rome', 'london'],\n",
       " ['rome', 'london', 'paris'],\n",
       " ['rome', 'paris', 'london']]"
      ]
     },
     "execution_count": 2,
     "metadata": {},
     "output_type": "execute_result"
    }
   ],
   "source": [
    "a = ['london', 'paris', 'rome']\n",
    "permute(a)"
   ]
  }
 ],
 "metadata": {
  "kernelspec": {
   "display_name": "Python 2",
   "language": "python",
   "name": "python2"
  },
  "language_info": {
   "codemirror_mode": {
    "name": "ipython",
    "version": 2
   },
   "file_extension": ".py",
   "mimetype": "text/x-python",
   "name": "python",
   "nbconvert_exporter": "python",
   "pygments_lexer": "ipython2",
   "version": "2.7.13"
  }
 },
 "nbformat": 4,
 "nbformat_minor": 2
}
