{
 "cells": [
  {
   "cell_type": "code",
   "execution_count": 19,
   "metadata": {
    "collapsed": true
   },
   "outputs": [],
   "source": [
    "# Traveling Salesman Problem\n",
    "# visit all cities in the given list of n cities\n",
    "# so that the total travel cost / time is minimal\n",
    "cities = ['london', 'paris', 'rome', 'dublin', 'amsterdam', 'berlin', 'stockholm']"
   ]
  },
  {
   "cell_type": "code",
   "execution_count": 20,
   "metadata": {
    "collapsed": false
   },
   "outputs": [
    {
     "name": "stdout",
     "output_type": "stream",
     "text": [
      "        city1      city2  miles\n",
      "0      london      paris    214\n",
      "1      london       rome    893\n",
      "2      london     dublin    288\n",
      "3      london  amsterdam    222\n",
      "4      london     berlin    579\n",
      "5      london  stockholm    891\n",
      "6       paris       rome    689\n",
      "7       paris     dublin    486\n",
      "8       paris  amsterdam    267\n",
      "9       paris     berlin    546\n",
      "10      paris  stockholm    960\n",
      "11       rome     dublin   1174\n",
      "12       rome  amsterdam    808\n",
      "13       rome     berlin    738\n",
      "14       rome  stockholm   1231\n",
      "15     dublin  amsterdam    470\n",
      "16     dublin     berlin    819\n",
      "17     dublin  stockholm   1013\n",
      "18  amsterdam     berlin    359\n",
      "19  amsterdam  stockholm    700\n",
      "20     berlin  stockholm    504\n"
     ]
    }
   ],
   "source": [
    "import pandas\n",
    "distances = pandas.read_csv(\"distances.txt\", sep = '\\t', names = ['city1', 'city2', 'miles'])\n",
    "print distances"
   ]
  },
  {
   "cell_type": "code",
   "execution_count": 21,
   "metadata": {
    "collapsed": false
   },
   "outputs": [
    {
     "name": "stdout",
     "output_type": "stream",
     "text": [
      "city1    london\n",
      "city2     paris\n",
      "miles       214\n",
      "Name: 0, dtype: object\n"
     ]
    }
   ],
   "source": [
    "# check the first row\n",
    "print distances.loc[0]"
   ]
  },
  {
   "cell_type": "code",
   "execution_count": 22,
   "metadata": {
    "collapsed": false
   },
   "outputs": [
    {
     "name": "stdout",
     "output_type": "stream",
     "text": [
      "           london  paris  rome  dublin  amsterdam  berlin  stockholm\n",
      "london        0.0    0.0   0.0     0.0        0.0     0.0        0.0\n",
      "paris         0.0    0.0   0.0     0.0        0.0     0.0        0.0\n",
      "rome          0.0    0.0   0.0     0.0        0.0     0.0        0.0\n",
      "dublin        0.0    0.0   0.0     0.0        0.0     0.0        0.0\n",
      "amsterdam     0.0    0.0   0.0     0.0        0.0     0.0        0.0\n",
      "berlin        0.0    0.0   0.0     0.0        0.0     0.0        0.0\n",
      "stockholm     0.0    0.0   0.0     0.0        0.0     0.0        0.0\n"
     ]
    }
   ],
   "source": [
    "# create distance matrix\n",
    "import numpy\n",
    "labels = pandas.Index(cities)\n",
    "n = len(cities)\n",
    "\n",
    "distance_matrix = pandas.DataFrame(data=numpy.zeros((n, n)), index=labels, columns=labels)\n",
    "print distance_matrix"
   ]
  },
  {
   "cell_type": "code",
   "execution_count": 23,
   "metadata": {
    "collapsed": false
   },
   "outputs": [
    {
     "name": "stdout",
     "output_type": "stream",
     "text": [
      "           london  paris    rome  dublin  amsterdam  berlin  stockholm\n",
      "london        0.0  214.0   893.0   288.0      222.0   579.0      891.0\n",
      "paris       214.0    0.0   689.0   486.0      267.0   546.0      960.0\n",
      "rome        893.0  689.0     0.0  1174.0      808.0   738.0     1231.0\n",
      "dublin      288.0  486.0  1174.0     0.0      470.0   819.0     1013.0\n",
      "amsterdam   222.0  267.0   808.0   470.0        0.0   359.0      700.0\n",
      "berlin      579.0  546.0   738.0   819.0      359.0     0.0      504.0\n",
      "stockholm   891.0  960.0  1231.0  1013.0      700.0   504.0        0.0\n"
     ]
    }
   ],
   "source": [
    "# fill distance-matrix with values from distances table\n",
    "for k in range(len(distances)):\n",
    "    \n",
    "    city1 = distances.loc[k]['city1']\n",
    "    city2 = distances.loc[k]['city2']\n",
    "    d = distances.loc[k]['miles']\n",
    "    \n",
    "    # distance-matrix is symmetric\n",
    "    distance_matrix[city1][city2] = d\n",
    "    distance_matrix[city2][city1] = d\n",
    "print distance_matrix"
   ]
  },
  {
   "cell_type": "code",
   "execution_count": 27,
   "metadata": {
    "collapsed": false
   },
   "outputs": [
    {
     "name": "stdout",
     "output_type": "stream",
     "text": [
      "['stockholm', 'rome', 'dublin', 'berlin', 'amsterdam', 'london', 'paris']\n"
     ]
    }
   ],
   "source": [
    "# create a random itinerary\n",
    "import random\n",
    "itinerary = cities\n",
    "random.shuffle(itinerary)\n",
    "print itinerary"
   ]
  },
  {
   "cell_type": "code",
   "execution_count": 28,
   "metadata": {
    "collapsed": true
   },
   "outputs": [],
   "source": [
    "# compute cost for given itinerary\n",
    "def travel_cost(itinarary):\n",
    "    total_cost = 0\n",
    "    for k in range(len(itinerary)-1):\n",
    "        city1 = itinerary[k]\n",
    "        city2 = itinerary[k+1]\n",
    "        total_cost += distance_matrix[city1][city2]\n",
    "    return total_cost"
   ]
  },
  {
   "cell_type": "code",
   "execution_count": 29,
   "metadata": {
    "collapsed": false
   },
   "outputs": [
    {
     "name": "stdout",
     "output_type": "stream",
     "text": [
      "4019.0\n"
     ]
    }
   ],
   "source": [
    "print travel_cost(itinerary)"
   ]
  },
  {
   "cell_type": "code",
   "execution_count": 30,
   "metadata": {
    "collapsed": true
   },
   "outputs": [],
   "source": [
    "# randomly swaps any two items in the given list\n",
    "def swap_items(itinerary):\n",
    "    \n",
    "    import random\n",
    "    (k1, k2) = random.sample(range(len(itinerary)), 2)\n",
    "    temp = itinerary[k1]\n",
    "    itinerary[k1] = itinerary[k2]\n",
    "    itinerary[k2] = temp\n",
    "    \n",
    "    return itinerary"
   ]
  },
  {
   "cell_type": "code",
   "execution_count": 31,
   "metadata": {
    "collapsed": false
   },
   "outputs": [
    {
     "name": "stdout",
     "output_type": "stream",
     "text": [
      "['stockholm', 'rome', 'paris', 'berlin', 'amsterdam', 'london', 'dublin']\n"
     ]
    }
   ],
   "source": [
    "print swap_items(itinerary)"
   ]
  },
  {
   "cell_type": "code",
   "execution_count": 33,
   "metadata": {
    "collapsed": true
   },
   "outputs": [],
   "source": [
    "# implements traveling salesman algorithm using gradient descent method\n",
    "def traveling_salesman(itinerary, iterations):\n",
    "    k = 0\n",
    "    optimal_cost = travel_cost(itinerary)\n",
    "    while k < iterations:\n",
    "        new_itinerary = swap_items(itinerary)\n",
    "        new_cost = travel_cost(new_itinerary)\n",
    "        # select new itinerary only if it reduces the cost function\n",
    "        if new_cost < optimal_cost:\n",
    "            itinerary = new_itinerary\n",
    "            optimal_cost = new_cost\n",
    "        k += 1\n",
    "    return itinerary, optimal_cost"
   ]
  },
  {
   "cell_type": "code",
   "execution_count": 35,
   "metadata": {
    "collapsed": false
   },
   "outputs": [
    {
     "name": "stdout",
     "output_type": "stream",
     "text": [
      "['amsterdam', 'rome', 'paris', 'berlin', 'stockholm', 'dublin', 'london']\n",
      "2524.0\n"
     ]
    }
   ],
   "source": [
    "# run traveling salesman for n iterations\n",
    "(optimal_itinerary, optimal_travel_cost) = traveling_salesman(itinerary, 5000)\n",
    "print optimal_itinerary\n",
    "print optimal_travel_cost"
   ]
  }
 ],
 "metadata": {
  "kernelspec": {
   "display_name": "Python 2",
   "language": "python",
   "name": "python2"
  },
  "language_info": {
   "codemirror_mode": {
    "name": "ipython",
    "version": 2
   },
   "file_extension": ".py",
   "mimetype": "text/x-python",
   "name": "python",
   "nbconvert_exporter": "python",
   "pygments_lexer": "ipython2",
   "version": "2.7.13"
  }
 },
 "nbformat": 4,
 "nbformat_minor": 2
}
