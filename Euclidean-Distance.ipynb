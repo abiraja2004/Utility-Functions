{
 "cells": [
  {
   "cell_type": "code",
   "execution_count": 11,
   "metadata": {
    "collapsed": true
   },
   "outputs": [],
   "source": [
    "# specify n to create points in n-dimensional space\n",
    "n = 5"
   ]
  },
  {
   "cell_type": "code",
   "execution_count": 12,
   "metadata": {
    "collapsed": true
   },
   "outputs": [],
   "source": [
    "import random\n",
    "# randomly create two points p1 and p2 in n-dimensional space\n",
    "p1 = random.sample(range(10), n)\n",
    "p2 = random.sample(range(10), n)"
   ]
  },
  {
   "cell_type": "code",
   "execution_count": 13,
   "metadata": {
    "collapsed": false
   },
   "outputs": [
    {
     "name": "stdout",
     "output_type": "stream",
     "text": [
      "P1:  [3, 2, 5, 9, 7]\n",
      "P2:  [3, 0, 2, 4, 7]\n"
     ]
    }
   ],
   "source": [
    "print \"P1: \", p1\n",
    "print \"P2: \", p2"
   ]
  },
  {
   "cell_type": "code",
   "execution_count": 16,
   "metadata": {
    "collapsed": true
   },
   "outputs": [],
   "source": [
    "# function to compute euclidean distance between two points p1 and p2\n",
    "def euclidean_distance(p1, p2):\n",
    "    import math\n",
    "    sum = 0\n",
    "    if(len(p2) != len(p2)):\n",
    "        print \"Error: Points p1 and p2 should have same dimensions.\"\n",
    "        return -1\n",
    "\n",
    "    # distance = sqrt((p1.x1 - p2.x1)**2 + (p1.x2 - p2.x2)**2 ..)\n",
    "    for i in range(len(p1)):\n",
    "        sum += (p1[i] - p2[i]) ** 2\n",
    "    return math.sqrt(sum)"
   ]
  },
  {
   "cell_type": "code",
   "execution_count": 17,
   "metadata": {
    "collapsed": false
   },
   "outputs": [
    {
     "name": "stdout",
     "output_type": "stream",
     "text": [
      "6.16441400297\n"
     ]
    }
   ],
   "source": [
    "print euclidean_distance(p1, p2)"
   ]
  }
 ],
 "metadata": {
  "kernelspec": {
   "display_name": "Python 2",
   "language": "python",
   "name": "python2"
  },
  "language_info": {
   "codemirror_mode": {
    "name": "ipython",
    "version": 2
   },
   "file_extension": ".py",
   "mimetype": "text/x-python",
   "name": "python",
   "nbconvert_exporter": "python",
   "pygments_lexer": "ipython2",
   "version": "2.7.13"
  }
 },
 "nbformat": 4,
 "nbformat_minor": 2
}
