{
 "cells": [
  {
   "cell_type": "code",
   "execution_count": 23,
   "metadata": {
    "collapsed": true
   },
   "outputs": [],
   "source": [
    "# specify n to create vectors in n-dimensional space\n",
    "n = 3"
   ]
  },
  {
   "cell_type": "code",
   "execution_count": 24,
   "metadata": {
    "collapsed": true
   },
   "outputs": [],
   "source": [
    "import random\n",
    "# randomly create two vectors v1 and v2 in n-dimensional space\n",
    "v1 = random.sample(range(10), n)\n",
    "v2 = random.sample(range(10), n)"
   ]
  },
  {
   "cell_type": "code",
   "execution_count": 25,
   "metadata": {
    "collapsed": false
   },
   "outputs": [
    {
     "name": "stdout",
     "output_type": "stream",
     "text": [
      "V1:  [4, 2, 6]\n",
      "V2:  [5, 9, 6]\n"
     ]
    }
   ],
   "source": [
    "print \"V1: \", v1\n",
    "print \"V2: \", v2"
   ]
  },
  {
   "cell_type": "code",
   "execution_count": 26,
   "metadata": {
    "collapsed": true
   },
   "outputs": [],
   "source": [
    "# function to compute dot product of two vectors\n",
    "def dot_product(v1, v2):\n",
    "    dot = 0\n",
    "    if(len(v1) != len(v2)):\n",
    "        print \"Error: Vectors v1 and v2 should have same dimensions.\"\n",
    "        return -1\n",
    "    else:\n",
    "        for k in range(len(v1)):\n",
    "            dot += v1[k] * v2[k]\n",
    "    return dot"
   ]
  },
  {
   "cell_type": "code",
   "execution_count": 27,
   "metadata": {
    "collapsed": false
   },
   "outputs": [
    {
     "name": "stdout",
     "output_type": "stream",
     "text": [
      "Dot Product(V1, V2) =  74\n"
     ]
    }
   ],
   "source": [
    "print \"Dot Product(V1, V2) = \", dot_product(v1, v2)"
   ]
  },
  {
   "cell_type": "code",
   "execution_count": 28,
   "metadata": {
    "collapsed": true
   },
   "outputs": [],
   "source": [
    "# function to compute absolute value (norm) of vector\n",
    "def norm(v):\n",
    "    import math\n",
    "    sum = 0\n",
    "    for k in range(len(v)):\n",
    "        sum += v[k] ** 2\n",
    "    return math.sqrt(sum)"
   ]
  },
  {
   "cell_type": "code",
   "execution_count": 29,
   "metadata": {
    "collapsed": false
   },
   "outputs": [
    {
     "name": "stdout",
     "output_type": "stream",
     "text": [
      "Norm(V1) =  7.48331477355\n",
      "Norm(V2) =  11.9163752878\n"
     ]
    }
   ],
   "source": [
    "print \"Norm(V1) = \", norm(v1)\n",
    "print \"Norm(V2) = \", norm(v2)"
   ]
  },
  {
   "cell_type": "code",
   "execution_count": 30,
   "metadata": {
    "collapsed": true
   },
   "outputs": [],
   "source": [
    "# function to compute cosine of angel between two vectors\n",
    "def cosine(v1, v2):\n",
    "    if(norm(v1) != 0 and norm(v2) != 0):\n",
    "        return dot_product(v1, v2) / (norm(v1) * norm(v2))\n",
    "    else:\n",
    "        return 0"
   ]
  },
  {
   "cell_type": "code",
   "execution_count": 31,
   "metadata": {
    "collapsed": false
   },
   "outputs": [
    {
     "name": "stdout",
     "output_type": "stream",
     "text": [
      "0.82983841243\n"
     ]
    }
   ],
   "source": [
    "print cosine(v1, v2)"
   ]
  }
 ],
 "metadata": {
  "kernelspec": {
   "display_name": "Python 2",
   "language": "python",
   "name": "python2"
  },
  "language_info": {
   "codemirror_mode": {
    "name": "ipython",
    "version": 2
   },
   "file_extension": ".py",
   "mimetype": "text/x-python",
   "name": "python",
   "nbconvert_exporter": "python",
   "pygments_lexer": "ipython2",
   "version": "2.7.13"
  }
 },
 "nbformat": 4,
 "nbformat_minor": 2
}
