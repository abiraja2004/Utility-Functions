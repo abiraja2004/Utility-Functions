{
 "cells": [
  {
   "cell_type": "code",
   "execution_count": 20,
   "metadata": {
    "collapsed": true
   },
   "outputs": [],
   "source": [
    "# find all pairs in sorted array that sum up to k^2 in O(n)\n",
    "def squared_sum(arr, k):\n",
    "    min = 0\n",
    "    max = len(arr)-1\n",
    "    # stores the output pairs\n",
    "    output = []\n",
    "    \n",
    "    while min < max:\n",
    "        if(arr[min] ** 2 + arr[max] ** 2 == k ** 2):\n",
    "            output.append([arr[min], arr[max]])\n",
    "            min += 1\n",
    "            max -= 1\n",
    "        else:\n",
    "            if(arr[min] ** 2 + arr[max] ** 2 < k ** 2):\n",
    "                min += 1\n",
    "            else:\n",
    "                max -= 1\n",
    "    return output"
   ]
  },
  {
   "cell_type": "code",
   "execution_count": 21,
   "metadata": {
    "collapsed": true
   },
   "outputs": [],
   "source": [
    "# find all triplets that satisfy pythagorean principle\n",
    "# c^2 = a^2 + b^2 => [a, b, c]\n",
    "def pythagorean_triplets(arr):\n",
    "    result_set = []\n",
    "    \n",
    "    for k in range(2, len(arr)):\n",
    "        # find all pairs that sum up to arr[k] ^ 2\n",
    "        output = squared_sum(arr[:k], arr[k])\n",
    "        for pair in output:\n",
    "            result_set.append([pair[0], pair[1], arr[k]])\n",
    "    return result_set"
   ]
  },
  {
   "cell_type": "code",
   "execution_count": 22,
   "metadata": {
    "collapsed": false
   },
   "outputs": [
    {
     "name": "stdout",
     "output_type": "stream",
     "text": [
      "[[3, 4, 5], [6, 8, 10], [5, 12, 13], [9, 12, 15], [8, 15, 17], [12, 16, 20], [7, 24, 25], [15, 20, 25], [10, 24, 26], [20, 21, 29]]\n"
     ]
    }
   ],
   "source": [
    "arr = range(30)\n",
    "print pythagorean_triplets(arr)"
   ]
  }
 ],
 "metadata": {
  "kernelspec": {
   "display_name": "Python 2",
   "language": "python",
   "name": "python2"
  },
  "language_info": {
   "codemirror_mode": {
    "name": "ipython",
    "version": 2
   },
   "file_extension": ".py",
   "mimetype": "text/x-python",
   "name": "python",
   "nbconvert_exporter": "python",
   "pygments_lexer": "ipython2",
   "version": "2.7.13"
  }
 },
 "nbformat": 4,
 "nbformat_minor": 2
}
